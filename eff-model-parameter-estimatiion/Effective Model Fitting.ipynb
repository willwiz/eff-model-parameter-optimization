{
 "cells": [
  {
   "cell_type": "markdown",
   "metadata": {},
   "source": [
    "#           Fitting Effective Model parameters"
   ]
  },
  {
   "cell_type": "markdown",
   "metadata": {},
   "source": [
    "## Initialization "
   ]
  },
  {
   "cell_type": "code",
   "execution_count": 18,
   "metadata": {
    "collapsed": true
   },
   "outputs": [],
   "source": [
    "import numpy as np"
   ]
  },
  {
   "cell_type": "code",
   "execution_count": 358,
   "metadata": {
    "collapsed": true
   },
   "outputs": [],
   "source": [
    "%matplotlib inline\n",
    "# %matplotlib notebook\n",
    "import matplotlib\n",
    "import matplotlib.cm as cm\n",
    "import matplotlib.mlab as mlab\n",
    "import matplotlib.pyplot as plt\n",
    "import matplotlib.ticker as ticker\n",
    "from mpl_toolkits.mplot3d import Axes3D"
   ]
  },
  {
   "cell_type": "code",
   "execution_count": 20,
   "metadata": {
    "collapsed": true
   },
   "outputs": [],
   "source": [
    "import timeit\n",
    "import time"
   ]
  },
  {
   "cell_type": "code",
   "execution_count": 21,
   "metadata": {
    "collapsed": true
   },
   "outputs": [],
   "source": [
    "import os"
   ]
  },
  {
   "cell_type": "code",
   "execution_count": 22,
   "metadata": {
    "collapsed": true
   },
   "outputs": [],
   "source": [
    "from scipy.optimize import lsq_linear\n",
    "from scipy.optimize import minimize"
   ]
  },
  {
   "cell_type": "code",
   "execution_count": 23,
   "metadata": {
    "collapsed": true
   },
   "outputs": [],
   "source": [
    "from tkinter import*\n",
    "# Create Tk root\n",
    "root = Tk()\n",
    "# Hide the main window\n",
    "root.withdraw()\n",
    "root.call('wm', 'attributes', '.', '-topmost', True)\n",
    "\n",
    "from tkinter import filedialog"
   ]
  },
  {
   "cell_type": "markdown",
   "metadata": {},
   "source": [
    "## Import required data"
   ]
  },
  {
   "cell_type": "markdown",
   "metadata": {},
   "source": [
    "### Import GUI"
   ]
  },
  {
   "cell_type": "code",
   "execution_count": 247,
   "metadata": {
    "collapsed": true
   },
   "outputs": [],
   "source": [
    "#   Open the import file GUI\n",
    "##  Remember to look at your list of Apps\n",
    "infiles = filedialog.askopenfilename(multiple=True)\n",
    "%gui tk"
   ]
  },
  {
   "cell_type": "code",
   "execution_count": 248,
   "metadata": {
    "collapsed": false
   },
   "outputs": [
    {
     "data": {
      "text/plain": [
       "'/Users/willwiz/Downloads/Will-Rana-selected/specimen1/iso_wc/iso1data.txt'"
      ]
     },
     "execution_count": 248,
     "metadata": {},
     "output_type": "execute_result"
    }
   ],
   "source": [
    "# The file that gets imported\n",
    "infiles[0]"
   ]
  },
  {
   "cell_type": "code",
   "execution_count": 249,
   "metadata": {
    "collapsed": true
   },
   "outputs": [],
   "source": [
    "## for indexing the polynomials based on the groups\n",
    "index = np.genfromtxt(os.path.join(os.getcwd(), 'polysortedpositions.txt'), dtype=int) - 1"
   ]
  },
  {
   "cell_type": "code",
   "execution_count": 250,
   "metadata": {
    "collapsed": true
   },
   "outputs": [],
   "source": [
    "## indexes which changes between polynomial order and cross terms\n",
    "key = np.genfromtxt(os.path.join(os.getcwd(), 'keypositions.txt'), dtype=int) - 1 + 1"
   ]
  },
  {
   "cell_type": "code",
   "execution_count": 251,
   "metadata": {
    "collapsed": true
   },
   "outputs": [],
   "source": [
    "cons_positions = np.genfromtxt(os.path.join(os.getcwd(), 'cospositions.txt'), dtype=int) - 1"
   ]
  },
  {
   "cell_type": "code",
   "execution_count": 252,
   "metadata": {
    "collapsed": true
   },
   "outputs": [],
   "source": [
    "importeddata = np.loadtxt(infiles[0])"
   ]
  },
  {
   "cell_type": "code",
   "execution_count": 253,
   "metadata": {
    "collapsed": true
   },
   "outputs": [],
   "source": [
    "importedconsdata = np.loadtxt(os.path.join(os.path.dirname(os.path.realpath(infiles[0])), 'consdata.txt'))"
   ]
  },
  {
   "cell_type": "markdown",
   "metadata": {},
   "source": [
    "### Data processing"
   ]
  },
  {
   "cell_type": "code",
   "execution_count": 270,
   "metadata": {
    "collapsed": false
   },
   "outputs": [
    {
     "name": "stdout",
     "output_type": "stream",
     "text": [
      "/Users/willwiz/Downloads/Will-Rana-selected/specimen1/iso_wc/iso1data.txt\n"
     ]
    }
   ],
   "source": [
    "data_size = importeddata[:,1].size\n",
    "print(_)"
   ]
  },
  {
   "cell_type": "code",
   "execution_count": 271,
   "metadata": {
    "collapsed": true
   },
   "outputs": [],
   "source": [
    "# Import the deformation gradient tensor from the data\n",
    "ftensor = np.zeros((data_size,2,2))\n",
    "ftensor[:,0,0] = importeddata[:,0]\n",
    "ftensor[:,0,1] = importeddata[:,1]\n",
    "ftensor[:,1,0] = importeddata[:,2]\n",
    "ftensor[:,1,1] = importeddata[:,3]\n",
    "# Import the 2nd PK tensor from the data\n",
    "Stensor = np.zeros((data_size,2,2))\n",
    "Stensor[:,0,0] = importeddata[:,4]\n",
    "Stensor[:,0,1] = importeddata[:,5]\n",
    "Stensor[:,1,0] = importeddata[:,5]\n",
    "Stensor[:,1,1] = importeddata[:,6]"
   ]
  },
  {
   "cell_type": "code",
   "execution_count": 272,
   "metadata": {
    "collapsed": true
   },
   "outputs": [],
   "source": [
    "# Compute the Cauchy stress the deformation gradient tensor from the data\n",
    "Ttensor = np.zeros((data_size,2,2))\n",
    "for i in range(data_size):\n",
    "    Ttensor[i] = ftensor[i].dot(Stensor[i]).dot(ftensor[i].T)"
   ]
  },
  {
   "cell_type": "code",
   "execution_count": 409,
   "metadata": {
    "collapsed": true
   },
   "outputs": [],
   "source": [
    "## Low stress region points\n",
    "ls_datapoints = np.array([ n for n,i in enumerate(Stensor) if i[0,0] < 50 and i[0,1] < 50 and i[1,1] < 50])"
   ]
  },
  {
   "cell_type": "markdown",
   "metadata": {},
   "source": [
    "#### Compute the preferred direction"
   ]
  },
  {
   "cell_type": "code",
   "execution_count": 274,
   "metadata": {
    "collapsed": true
   },
   "outputs": [],
   "source": [
    "M = np.array([1,0])"
   ]
  },
  {
   "cell_type": "code",
   "execution_count": 275,
   "metadata": {
    "collapsed": false
   },
   "outputs": [],
   "source": [
    "S = np.array([-M[1], M[0]])"
   ]
  },
  {
   "cell_type": "code",
   "execution_count": 318,
   "metadata": {
    "collapsed": true
   },
   "outputs": [],
   "source": [
    "def calc_m(F,M):\n",
    "    vec = F.dot(M)\n",
    "    m = vec/np.sqrt(vec.dot(vec))\n",
    "    return m"
   ]
  },
  {
   "cell_type": "code",
   "execution_count": 319,
   "metadata": {
    "collapsed": true
   },
   "outputs": [],
   "source": [
    "def cross_2D(M):\n",
    "    return np.array([-M[1], M[0]])"
   ]
  },
  {
   "cell_type": "code",
   "execution_count": 320,
   "metadata": {
    "collapsed": true
   },
   "outputs": [],
   "source": [
    "m = np.zeros((data_size,2))\n",
    "for i in range(data_size):\n",
    "    m[i] = calc_m(ftensor[i], M)"
   ]
  },
  {
   "cell_type": "code",
   "execution_count": 321,
   "metadata": {
    "collapsed": true
   },
   "outputs": [],
   "source": [
    "s = np.zeros((data_size,2))\n",
    "for i in range(data_size):\n",
    "    s[i] = cross_2D(m[i])"
   ]
  },
  {
   "cell_type": "markdown",
   "metadata": {},
   "source": [
    "#### Compute the kinematic variables"
   ]
  },
  {
   "cell_type": "code",
   "execution_count": 322,
   "metadata": {
    "collapsed": true
   },
   "outputs": [],
   "source": [
    "dat_lambdaM = np.zeros(data_size)\n",
    "dat_lambdaS = np.zeros(data_size)\n",
    "dat_phi = np.zeros(data_size)"
   ]
  },
  {
   "cell_type": "code",
   "execution_count": 333,
   "metadata": {
    "collapsed": false
   },
   "outputs": [],
   "source": [
    "## for lambda_M \n",
    "for i in range(data_size):\n",
    "    dat_lambdaM[i] = m[i].dot(ftensor[i]).dot(M)\n",
    "    \n",
    "## for lambda_S\n",
    "for i in range(data_size):\n",
    "    dat_lambdaS[i] = s[i].dot(ftensor[i]).dot(S)\n",
    "\n",
    "## for phi_M\n",
    "for i in range(data_size):\n",
    "    dat_phi[i] = m[i].dot(ftensor[i]).dot(S)/dat_lambdaM[i]"
   ]
  },
  {
   "cell_type": "code",
   "execution_count": 337,
   "metadata": {
    "collapsed": false
   },
   "outputs": [],
   "source": [
    "dat_gamma1 = np.log(dat_lambdaM)\n",
    "dat_gamma2 = np.log(dat_lambdaS)\n",
    "dat_gamma3 = dat_phi"
   ]
  },
  {
   "cell_type": "code",
   "execution_count": 338,
   "metadata": {
    "collapsed": true
   },
   "outputs": [],
   "source": [
    "gamma1 = dat_gamma1\n",
    "gamma2 = dat_gamma2\n",
    "gamma3 = dat_gamma3"
   ]
  },
  {
   "cell_type": "markdown",
   "metadata": {
    "collapsed": true
   },
   "source": [
    "#### Compute the response function variables"
   ]
  },
  {
   "cell_type": "code",
   "execution_count": 339,
   "metadata": {
    "collapsed": false
   },
   "outputs": [],
   "source": [
    "W1 = np.zeros(data_size)\n",
    "W2 = np.zeros(data_size)\n",
    "W3 = np.zeros(data_size)"
   ]
  },
  {
   "cell_type": "code",
   "execution_count": 342,
   "metadata": {
    "collapsed": false
   },
   "outputs": [],
   "source": [
    "for i in range(data_size):\n",
    "    W1[i] = m[i].dot(Ttensor[i]).dot(m[i])"
   ]
  },
  {
   "cell_type": "code",
   "execution_count": 343,
   "metadata": {
    "collapsed": false
   },
   "outputs": [],
   "source": [
    "for i in range(data_size):\n",
    "    W2[i] = s[i].dot(Ttensor[i]).dot(s[i])"
   ]
  },
  {
   "cell_type": "code",
   "execution_count": 349,
   "metadata": {
    "collapsed": false
   },
   "outputs": [],
   "source": [
    "for i in range(data_size):\n",
    "    W3[i] = m[i].dot(Ttensor[i]).dot(s[i]) * dat_lambdaM[i] / dat_lambdaS[i]"
   ]
  },
  {
   "cell_type": "markdown",
   "metadata": {
    "collapsed": true
   },
   "source": [
    "## Define the model "
   ]
  },
  {
   "cell_type": "markdown",
   "metadata": {},
   "source": [
    "### Model Kinematics"
   ]
  },
  {
   "cell_type": "code",
   "execution_count": 159,
   "metadata": {
    "collapsed": true
   },
   "outputs": [],
   "source": [
    "poly_order = 10"
   ]
  },
  {
   "cell_type": "code",
   "execution_count": 126,
   "metadata": {
    "collapsed": true
   },
   "outputs": [],
   "source": [
    "def vectorize(top_degree, i, j, k):\n",
    "    n = (top_degree//2 + 1)\n",
    "    n2 = (top_degree + 1) * (n)\n",
    "    return n2*i + n*j + k//2"
   ]
  },
  {
   "cell_type": "code",
   "execution_count": 127,
   "metadata": {
    "collapsed": true
   },
   "outputs": [],
   "source": [
    "def find_index(top_degree, y):\n",
    "    n = (top_degree//2 + 1)\n",
    "    n2 = (top_degree + 1) * (n)\n",
    "    return y//n2, (y%n2)//n, 2*(y%n)"
   ]
  },
  {
   "cell_type": "markdown",
   "metadata": {
    "collapsed": true
   },
   "source": [
    "### Define the model form"
   ]
  },
  {
   "cell_type": "code",
   "execution_count": 372,
   "metadata": {
    "collapsed": true
   },
   "outputs": [],
   "source": [
    "def Psi(g1, g2, g3, c, y):\n",
    "    i,j,k = find_index(poly_order, y)\n",
    "    return c*(g1**i)*(g2**j)*(g3**k)"
   ]
  },
  {
   "cell_type": "code",
   "execution_count": 373,
   "metadata": {
    "collapsed": true
   },
   "outputs": [],
   "source": [
    "def strainenergy(g1, g2, g3, const, degrees):\n",
    "    result = 0.0\n",
    "    for y in range(const.size):\n",
    "        result += Psi(g1, g2, g3, c, y)\n",
    "    return result"
   ]
  },
  {
   "cell_type": "markdown",
   "metadata": {
    "collapsed": true
   },
   "source": [
    "### Define the response functions"
   ]
  },
  {
   "cell_type": "code",
   "execution_count": 374,
   "metadata": {
    "collapsed": true
   },
   "outputs": [],
   "source": [
    "def dW1(g1, g2, g3, degrees):\n",
    "    i,j,k = find_index(poly_order, degrees)\n",
    "    if i > 0:\n",
    "        return (i*g1**(i-1)) * (g2**j) * (g3**k)\n",
    "    else:\n",
    "        return 0"
   ]
  },
  {
   "cell_type": "code",
   "execution_count": 375,
   "metadata": {
    "collapsed": true
   },
   "outputs": [],
   "source": [
    "def dW2(g1, g2, g3, degrees):\n",
    "    i,j,k = find_index(poly_order, degrees)\n",
    "    if j > 0:\n",
    "        return (g1**i) * (j*g2**(j-1)) * (g3**k)\n",
    "    else:\n",
    "        return 0"
   ]
  },
  {
   "cell_type": "code",
   "execution_count": 376,
   "metadata": {
    "collapsed": true
   },
   "outputs": [],
   "source": [
    "def dW3(g1, g2, g3, degrees):\n",
    "    i,j,k = find_index(poly_order, degrees)\n",
    "    if k > 0:\n",
    "        return (g1**i) * (g2**j) * (k*g3**(k-1))\n",
    "    else:\n",
    "        return 0"
   ]
  },
  {
   "cell_type": "code",
   "execution_count": 377,
   "metadata": {
    "collapsed": true
   },
   "outputs": [],
   "source": [
    "def dW11(g1, g2, g3, degrees):\n",
    "    i,j,k = find_index(poly_order, degrees)\n",
    "    if i > 1:\n",
    "        return (i * (i-1) * g1**(i-2)) * (g2**j) * (g3**k)\n",
    "    else:\n",
    "        return 0"
   ]
  },
  {
   "cell_type": "code",
   "execution_count": 378,
   "metadata": {
    "collapsed": true
   },
   "outputs": [],
   "source": [
    "def dW22(g1, g2, g3, degrees):\n",
    "    i,j,k = find_index(poly_order, degrees)\n",
    "    if j > 1:\n",
    "        return (g1**i) * (j * (j-1) * g2**(j-2)) * (g3**k)\n",
    "    else:\n",
    "        return 0"
   ]
  },
  {
   "cell_type": "code",
   "execution_count": 379,
   "metadata": {
    "collapsed": true
   },
   "outputs": [],
   "source": [
    "def dW33(g1, g2, g3, degrees):\n",
    "    i,j,k = find_index(poly_order, degrees)\n",
    "    if k > 1:\n",
    "        return (g1**i)*(g2**j)*(k*(k-1)*g3**(k-2))\n",
    "    else:\n",
    "        return 0"
   ]
  },
  {
   "cell_type": "code",
   "execution_count": 380,
   "metadata": {
    "collapsed": true
   },
   "outputs": [],
   "source": [
    "def dW12(g1, g2, g3, degrees):\n",
    "    i,j,k = find_index(poly_order, degrees)\n",
    "    if i > 0 and j > 0:\n",
    "        return (i*g1**(i-1))*(j*g2**(j-1))*(g3**k)\n",
    "    else:\n",
    "        return 0"
   ]
  },
  {
   "cell_type": "code",
   "execution_count": 381,
   "metadata": {
    "collapsed": true
   },
   "outputs": [],
   "source": [
    "def dW13(g1, g2, g3, degrees):\n",
    "    i,j,k = find_index(poly_order, degrees)\n",
    "    if i > 0 and k > 0:\n",
    "        return (i*g1**(i-1))*(g2**j)*(k*g3**(k-1))\n",
    "    else:\n",
    "        return 0"
   ]
  },
  {
   "cell_type": "code",
   "execution_count": 382,
   "metadata": {
    "collapsed": true
   },
   "outputs": [],
   "source": [
    "def dW23(g1, g2, g3, degrees):\n",
    "    i,j,k = find_index(poly_order, degrees)\n",
    "    if j > 0 and k > 0:\n",
    "        return (g1**i)*(j*g2**(j-1))*(k*g3**(k-1))\n",
    "    else:\n",
    "        return 0"
   ]
  },
  {
   "cell_type": "markdown",
   "metadata": {},
   "source": [
    "### Define the stiffness functions"
   ]
  },
  {
   "cell_type": "code",
   "execution_count": 383,
   "metadata": {
    "collapsed": true
   },
   "outputs": [],
   "source": [
    "def rW1(g1, g2, g3, degrees):\n",
    "    x = g1, g2, g3, degrees\n",
    "    lm2 = np.exp(g1)**2\n",
    "    ls2 = np.exp(g2)**2\n",
    "    phi = g3\n",
    "    return -(phi**2 /lm2/ls2 + .5 * phi**4 /ls2/ls2)*dW2(*x) \\\n",
    "            +(2*phi*dW3(*x) - 0.5*dW1(*x) + 0.25*dW11(*x) + phi**2 * dW33(*x) - phi*dW13(*x))/lm2/lm2 \\\n",
    "            +phi**2 /lm2/ls2 * (.5*dW12(*x) - phi*dW23(*x)) + 0.25 * phi**4 /ls2/ls2 * dW22(*x)"
   ]
  },
  {
   "cell_type": "code",
   "execution_count": 384,
   "metadata": {
    "collapsed": true
   },
   "outputs": [],
   "source": [
    "def rW2(g1, g2, g3, degrees):\n",
    "    x = g1, g2, g3, degrees\n",
    "    lm2 = np.exp(g1)**2\n",
    "    ls2 = np.exp(g2)**2\n",
    "    phi = g3\n",
    "    return 0.5*(phi/lm2/ls2 + phi**3/ls2/ls2) * dW2(*x) \\\n",
    "            +0.5/lm2/lm2*(0.5*dW13(*x) - dW3(*x) - phi*dW33(*x)) \\\n",
    "            +0.25*phi/lm2/ls2*(3*phi*dW23(*x) - dW12(*x)) - 0.25 * phi**3 /ls2/ls2 * dW22(*x)"
   ]
  },
  {
   "cell_type": "code",
   "execution_count": 385,
   "metadata": {
    "collapsed": true
   },
   "outputs": [],
   "source": [
    "def rW3(g1, g2, g3, degrees):\n",
    "    x = g1, g2, g3, degrees\n",
    "    lm2 = np.exp(g1)**2\n",
    "    ls2 = np.exp(g2)**2\n",
    "    phi = g3\n",
    "    return 0.25 * phi**2/ls2/ls2 *(dW22(*x) - 2*dW2(*x)) + 0.25/lm2/ls2*(dW12(*x) - 2*phi*dW23(*x))"
   ]
  },
  {
   "cell_type": "code",
   "execution_count": 386,
   "metadata": {
    "collapsed": true
   },
   "outputs": [],
   "source": [
    "def rW4(g1, g2, g3, degrees):\n",
    "    x = g1, g2, g3, degrees\n",
    "    lm2 = np.exp(g1)**2\n",
    "    ls2 = np.exp(g2)**2\n",
    "    phi = g3\n",
    "    return -(0.25/lm2 + 0.5*phi**2/ls2)/ls2*dW2(*x) + 0.25 * phi**2 /ls2/ls2*dW22(*x) \\\n",
    "            +0.25/lm2/lm2*dW33(*x) - 0.5*phi/lm2/ls2 * dW23(*x)"
   ]
  },
  {
   "cell_type": "code",
   "execution_count": 387,
   "metadata": {
    "collapsed": true
   },
   "outputs": [],
   "source": [
    "def rW5(g1, g2, g3, degrees):\n",
    "    x = g1, g2, g3, degrees\n",
    "    lm2 = np.exp(g1)**2\n",
    "    ls2 = np.exp(g2)**2\n",
    "    phi = g3\n",
    "    return 0.25*phi/ls2/ls2*(2*dW2(*x) - dW22(*x)) + 0.25/lm2/ls2*dW23(*x)"
   ]
  },
  {
   "cell_type": "code",
   "execution_count": 388,
   "metadata": {
    "collapsed": true
   },
   "outputs": [],
   "source": [
    "def rW6(g1, g2, g3, degrees):\n",
    "    x = g1, g2, g3, degrees\n",
    "    ls2 = np.exp(g2)**2\n",
    "    return 0.25/ls2/ls2*(dW22(*x) - 2*dW2(*x))"
   ]
  },
  {
   "cell_type": "markdown",
   "metadata": {},
   "source": [
    "### Define the stress"
   ]
  },
  {
   "cell_type": "code",
   "execution_count": 608,
   "metadata": {
    "collapsed": true
   },
   "outputs": [],
   "source": [
    "def responseW1(g1, g2, g3, const, degrees):\n",
    "    result = 0.0\n",
    "    for y in range(const.size):\n",
    "        result += const[y]*dW1(g1,g2,g3,degrees[y])\n",
    "    return result"
   ]
  },
  {
   "cell_type": "code",
   "execution_count": 612,
   "metadata": {
    "collapsed": true
   },
   "outputs": [],
   "source": [
    "def responseW2(g1, g2, g3, const, degrees):\n",
    "    result = 0.0\n",
    "    for y in range(const.size):\n",
    "        result += const[y]*dW2(g1,g2,g3,degrees[y])\n",
    "    return result"
   ]
  },
  {
   "cell_type": "code",
   "execution_count": 613,
   "metadata": {
    "collapsed": true
   },
   "outputs": [],
   "source": [
    "def responseW3(g1, g2, g3, const, degrees):\n",
    "    result = 0.0\n",
    "    for y in range(const.size):\n",
    "        result += const[y]*dW3(g1,g2,g3,degrees[y])\n",
    "    return result"
   ]
  },
  {
   "cell_type": "code",
   "execution_count": null,
   "metadata": {
    "collapsed": true
   },
   "outputs": [],
   "source": []
  },
  {
   "cell_type": "code",
   "execution_count": 389,
   "metadata": {
    "collapsed": true
   },
   "outputs": [],
   "source": [
    "def cauchy_stress(lambda1, lambda3, const, degrees):\n",
    "    result = 0.0\n",
    "    gamma1 = np.log(lambda1)\n",
    "    gamma2 = np.log(lambda3)\n",
    "    gamma3 = 0.0\n",
    "    W1 = responseW1(gamma1, gamma2, gamma3, const, degrees)\n",
    "    return W1/lambda1/lambda1"
   ]
  },
  {
   "cell_type": "markdown",
   "metadata": {},
   "source": [
    "## Precompute the problem"
   ]
  },
  {
   "cell_type": "markdown",
   "metadata": {},
   "source": [
    "### Define the response matrix"
   ]
  },
  {
   "cell_type": "code",
   "execution_count": 390,
   "metadata": {
    "collapsed": true
   },
   "outputs": [],
   "source": [
    "def pre_W1(g1, g2, g3, degrees):\n",
    "    npoly = degrees.max() + 1\n",
    "    data_size = g1.size\n",
    "    preArray = np.zeros((data_size, npoly))\n",
    "    for x in range(data_size):\n",
    "        for y in degrees:\n",
    "            preArray[x,y] = dW1(g1[x],g2[x],g3[x],y)\n",
    "    return preArray"
   ]
  },
  {
   "cell_type": "code",
   "execution_count": 391,
   "metadata": {
    "collapsed": true
   },
   "outputs": [],
   "source": [
    "def pre_W2(g1, g2, g3, degrees):\n",
    "    npoly = degrees.max() + 1\n",
    "    data_size = g1.size\n",
    "    preArray = np.zeros((data_size, npoly))\n",
    "    for x in range(data_size):\n",
    "        for y in degrees:\n",
    "            preArray[x,y] = dW2(g1[x],g2[x],g3[x],y)\n",
    "    return preArray"
   ]
  },
  {
   "cell_type": "code",
   "execution_count": 392,
   "metadata": {
    "collapsed": true
   },
   "outputs": [],
   "source": [
    "def pre_W3(g1, g2, g3, degrees):\n",
    "    npoly = degrees.max() + 1\n",
    "    data_size = g1.size\n",
    "    preArray = np.zeros((data_size, npoly))\n",
    "    for x in range(data_size):\n",
    "        for y in degrees:\n",
    "            preArray[x,y] = dW3(g1[x],g2[x],g3[x],y)\n",
    "    return preArray"
   ]
  },
  {
   "cell_type": "markdown",
   "metadata": {},
   "source": [
    "### Define the elasticity matrix"
   ]
  },
  {
   "cell_type": "code",
   "execution_count": 681,
   "metadata": {
    "collapsed": true
   },
   "outputs": [],
   "source": [
    "def pre_rW1(g1, g2, g3, degrees):\n",
    "    npoly = degrees.max() + 1\n",
    "    data_size = g1.size\n",
    "    preArray = np.zeros((data_size, npoly))\n",
    "    for x in range(data_size):\n",
    "        for y in degrees:\n",
    "            preArray[x,y] = rW1(g1[x], g2[x], g3[x], y)\n",
    "    return preArray"
   ]
  },
  {
   "cell_type": "code",
   "execution_count": 682,
   "metadata": {
    "collapsed": true
   },
   "outputs": [],
   "source": [
    "def pre_rW2(g1, g2, g3, degrees):\n",
    "    npoly = degrees.max() + 1\n",
    "    data_size = g1.size\n",
    "    preArray = np.zeros((data_size, npoly))\n",
    "    for x in range(data_size):\n",
    "        for y in degrees:\n",
    "            preArray[x,y] = rW2(g1[x], g2[x], g3[x], y)\n",
    "    return preArray"
   ]
  },
  {
   "cell_type": "code",
   "execution_count": 683,
   "metadata": {
    "collapsed": true
   },
   "outputs": [],
   "source": [
    "def pre_rW3(g1, g2, g3, degrees):\n",
    "    npoly = degrees.max() + 1\n",
    "    data_size = g1.size\n",
    "    preArray = np.zeros((data_size, npoly))\n",
    "    for x in range(data_size):\n",
    "        for y in degrees:\n",
    "            preArray[x,y] = rW3(g1[x], g2[x], g3[x], y)\n",
    "    return preArray"
   ]
  },
  {
   "cell_type": "code",
   "execution_count": 684,
   "metadata": {
    "collapsed": true
   },
   "outputs": [],
   "source": [
    "def pre_rW4(g1, g2, g3, degrees):\n",
    "    npoly = degrees.max() + 1\n",
    "    data_size = g1.size\n",
    "    preArray = np.zeros((data_size, npoly))\n",
    "    for x in range(data_size):\n",
    "        for y in degrees:\n",
    "            preArray[x,y] = rW4(g1[x], g2[x], g3[x], y)\n",
    "    return preArray"
   ]
  },
  {
   "cell_type": "code",
   "execution_count": 685,
   "metadata": {
    "collapsed": true
   },
   "outputs": [],
   "source": [
    "def pre_rW5(g1, g2, g3, degrees):\n",
    "    npoly = degrees.max() + 1\n",
    "    data_size = g1.size\n",
    "    preArray = np.zeros((data_size, npoly))\n",
    "    for x in range(data_size):\n",
    "        for y in degrees:\n",
    "            preArray[x,y] = rW5(g1[x], g2[x], g3[x], y)\n",
    "    return preArray"
   ]
  },
  {
   "cell_type": "code",
   "execution_count": 686,
   "metadata": {
    "collapsed": true
   },
   "outputs": [],
   "source": [
    "def pre_rW6(g1, g2, g3, degrees):\n",
    "    npoly = degrees.max() + 1\n",
    "    data_size = g1.size\n",
    "    preArray = np.zeros((data_size, npoly))\n",
    "    for x in range(data_size):\n",
    "        for y in degrees:\n",
    "            preArray[x,y] = rW6(g1[x], g2[x], g3[x], y)\n",
    "    return preArray"
   ]
  },
  {
   "cell_type": "markdown",
   "metadata": {},
   "source": [
    "### Precompute the response matrix"
   ]
  },
  {
   "cell_type": "code",
   "execution_count": 630,
   "metadata": {
    "collapsed": false
   },
   "outputs": [],
   "source": [
    "W1tensor = pre_W1(gamma1, gamma2, gamma3, index[:key.max()+1])\n",
    "W2tensor = pre_W2(gamma1, gamma2, gamma3, index[:key.max()+1])\n",
    "W3tensor = pre_W3(gamma1, gamma2, gamma3, index[:key.max()+1])"
   ]
  },
  {
   "cell_type": "code",
   "execution_count": 631,
   "metadata": {
    "collapsed": true
   },
   "outputs": [],
   "source": [
    "Wtensor = np.concatenate((W1tensor,W2tensor,W3tensor), axis = 0)\n",
    "Wvector = np.concatenate((W1,W2,W3))"
   ]
  },
  {
   "cell_type": "markdown",
   "metadata": {},
   "source": [
    "### Precompute the elasticity matrix"
   ]
  },
  {
   "cell_type": "code",
   "execution_count": 670,
   "metadata": {
    "collapsed": false
   },
   "outputs": [],
   "source": [
    "g1_cons_points = np.log(importedconsdata[:,0])\n",
    "g2_cons_points = np.log(importedconsdata[:,3])\n",
    "g3_cons_points = importedconsdata[:,1]/importedconsdata[:,0]"
   ]
  },
  {
   "cell_type": "code",
   "execution_count": null,
   "metadata": {
    "collapsed": true
   },
   "outputs": [],
   "source": [
    "# cons_n_axis = 4\n",
    "\n",
    "# def set_range(g):\n",
    "#     global cons_degree\n",
    "#     delta = (g.max() - g.min()) / cons_n_axis\n",
    "#     return np.arange(g.min(), g.max() + delta/2, delta)\n",
    "\n",
    "# def compute_cons_points(g1,g2,g3):\n",
    "#     points = np.zeros(((cons_n_axis+1)**3,3))\n",
    "#     z = 0 \n",
    "#     for i in set_range(g1):\n",
    "#         for j in set_range(g2):\n",
    "#             for k in set_range(g3):\n",
    "#                 cons_points[z] = np.array([i,j,k])\n",
    "#                 z += 1\n",
    "\n",
    "# #########################\n",
    "# [g1_cons_points,g2_cons_points,g3_cons_points] = compute_cons_points(gamma1, gamma2, gamma3).T"
   ]
  },
  {
   "cell_type": "code",
   "execution_count": 687,
   "metadata": {
    "collapsed": false
   },
   "outputs": [],
   "source": [
    "rW_tensor_1 = pre_rW1(g1_cons_points, g2_cons_points, g3_cons_points, index[:key.max()+1])\n",
    "rW_tensor_2 = pre_rW2(g1_cons_points, g2_cons_points, g3_cons_points, index[:key.max()+1])\n",
    "rW_tensor_3 = pre_rW3(g1_cons_points, g2_cons_points, g3_cons_points, index[:key.max()+1])\n",
    "rW_tensor_4 = pre_rW4(g1_cons_points, g2_cons_points, g3_cons_points, index[:key.max()+1])\n",
    "rW_tensor_5 = pre_rW5(g1_cons_points, g2_cons_points, g3_cons_points, index[:key.max()+1])\n",
    "rW_tensor_6 = pre_rW6(g1_cons_points, g2_cons_points, g3_cons_points, index[:key.max()+1])"
   ]
  },
  {
   "cell_type": "markdown",
   "metadata": {},
   "source": [
    "## Fit the low stress region"
   ]
  },
  {
   "cell_type": "markdown",
   "metadata": {},
   "source": [
    "### Data processing"
   ]
  },
  {
   "cell_type": "code",
   "execution_count": 417,
   "metadata": {
    "collapsed": false
   },
   "outputs": [],
   "source": [
    "ls_W1 = pre_W1(gamma1[ls_datapoints], gamma2[ls_datapoints], gamma3[ls_datapoints], index[[3,4,5,6]])\n",
    "ls_W2 = pre_W2(gamma1[ls_datapoints], gamma2[ls_datapoints], gamma3[ls_datapoints], index[[3,4,5,6]])\n",
    "ls_W3 = pre_W3(gamma1[ls_datapoints], gamma2[ls_datapoints], gamma3[ls_datapoints], index[[3,4,5,6]])\n",
    "############################################################\n",
    "ls_Wtensor = np.concatenate((ls_W1,ls_W2,ls_W3), axis = 0)\n",
    "ls_Wvector = np.concatenate((W1[ls_datapoints],W2[ls_datapoints],W3[ls_datapoints]))"
   ]
  },
  {
   "cell_type": "code",
   "execution_count": 493,
   "metadata": {
    "collapsed": false
   },
   "outputs": [],
   "source": [
    "ls_A = np.zeros((3*ls_datapoints.size,3))\n",
    "\n",
    "\n",
    "for i in range(3*ls_datapoints.size):\n",
    "    ls_A[i,0] = Wtensor[i,index[3]]\n",
    "    ls_A[i,1] = Wtensor[i,index[4]] + Wtensor[i,index[5]]\n",
    "    ls_A[i,2] = Wtensor[i,index[6]]"
   ]
  },
  {
   "cell_type": "markdown",
   "metadata": {},
   "source": [
    "### Functions"
   ]
  },
  {
   "cell_type": "code",
   "execution_count": 495,
   "metadata": {
    "collapsed": true
   },
   "outputs": [],
   "source": [
    "#################### Objective function ####################\n",
    "def ls_obj(x):\n",
    "    sse = ls_A.dot(x) - ls_Wvector\n",
    "    return np.dot(sse,sse)\n",
    "\n",
    "#################### Jacobian ####################\n",
    "def ls_obj_jac(x):\n",
    "    jac = np.zeros(3)\n",
    "    for i in range(3):\n",
    "        jac[i] = 2*((ls_A.dot(x) - ls_Wvector).dot(ls_A[:,i]))\n",
    "    return jac"
   ]
  },
  {
   "cell_type": "code",
   "execution_count": 494,
   "metadata": {
    "collapsed": true
   },
   "outputs": [],
   "source": [
    "ls_cons = (\n",
    "            {'type': 'ineq', 'fun': lambda x: x[1], 'jac' : lambda x: np.array([0,1,0])},\n",
    "            {'type': 'ineq', 'fun': lambda x: x[2], 'jac' : lambda x: np.array([0,0,1])},\n",
    "            {'type': 'ineq', 'fun': lambda x: x[1]*x[1]-x[0]*x[0], 'jac' : lambda x: np.array([-2*x[0],2*x[1],0])}\n",
    "    )"
   ]
  },
  {
   "cell_type": "markdown",
   "metadata": {},
   "source": [
    "### Parameter optimization"
   ]
  },
  {
   "cell_type": "code",
   "execution_count": 502,
   "metadata": {
    "collapsed": true
   },
   "outputs": [],
   "source": [
    "#################### Given an initial guess ####################\n",
    "ig = np.array([0,200,50])"
   ]
  },
  {
   "cell_type": "code",
   "execution_count": 505,
   "metadata": {
    "collapsed": false,
    "scrolled": false
   },
   "outputs": [
    {
     "name": "stdout",
     "output_type": "stream",
     "text": [
      "  NIT    FC           OBJFUN            GNORM\n",
      "    1     1     3.555232E+05     2.499417E+03\n",
      "    2     3     1.733845E+05     3.852898E+03\n",
      "    3     5     9.612131E+04     2.029361E+03\n",
      "    4     7     4.903075E+04     2.911077E+02\n",
      "    5     8     4.675705E+04     1.313388E+02\n",
      "    6     9     4.659818E+04     2.713580E+01\n",
      "    7    10     4.659451E+04     1.478728E+01\n",
      "    8    11     4.659450E+04     1.513478E+01\n",
      "    9    12     4.659450E+04     1.513182E+01\n",
      "Optimization terminated successfully.    (Exit mode 0)\n",
      "            Current function value: 46594.49844748895\n",
      "            Iterations: 9\n",
      "            Function evaluations: 12\n",
      "            Gradient evaluations: 9\n"
     ]
    }
   ],
   "source": [
    "low_results=minimize(ls_obj, ig, jac=ls_obj_jac,\n",
    "                     constraints=ls_cons, method='SLSQP',\n",
    "                     options={'disp': True, 'maxiter' : 100000, 'iprint': 2})"
   ]
  },
  {
   "cell_type": "code",
   "execution_count": 633,
   "metadata": {
    "collapsed": false
   },
   "outputs": [
    {
     "name": "stdout",
     "output_type": "stream",
     "text": [
      "[ 250.33149648  250.33149648  250.33149648   61.02414586]\n"
     ]
    }
   ],
   "source": [
    "#################### Assign the final results\n",
    "ls_terms = index[[3,4,5,6]]\n",
    "ls_parms_val = np.array([low_results.x[0],low_results.x[1],low_results.x[1],low_results.x[2]])\n",
    "print(ls_parms_val)"
   ]
  },
  {
   "cell_type": "markdown",
   "metadata": {},
   "source": [
    "### Plot the results"
   ]
  },
  {
   "cell_type": "markdown",
   "metadata": {},
   "source": [
    "##### Plot for W1"
   ]
  },
  {
   "cell_type": "code",
   "execution_count": 606,
   "metadata": {
    "collapsed": false
   },
   "outputs": [],
   "source": [
    "########################################\n",
    "# Select the data for plotting\n",
    "X = []\n",
    "Y = []\n",
    "Z = []\n",
    "for i in ls_datapoints:\n",
    "    if abs(gamma3[i]) < np.finfo(float).eps:\n",
    "        X.append(gamma1[i])\n",
    "        Y.append(gamma2[i])\n",
    "        Z.append(W1[i])\n",
    "########################################\n",
    "# Compute the fitted surface\n",
    "Zfit = np.zeros(len(X))\n",
    "for i in range(len(X)):\n",
    "    Zfit[i] = responseW1(X[i], Y[i], 0.0, ls_parms_val, ls_terms)\n"
   ]
  },
  {
   "cell_type": "code",
   "execution_count": 607,
   "metadata": {
    "collapsed": false,
    "scrolled": true
   },
   "outputs": [
    {
     "data": {
      "image/png": "[encoded data removed]",
      "text/plain": [
       "<matplotlib.figure.Figure at 0x11bf33d68>"
      ]
     },
     "metadata": {},
     "output_type": "display_data"
    }
   ],
   "source": [
    "fig_ls_data = plt.figure()\n",
    "ax = fig_ls_data.add_subplot(111, projection='3d')\n",
    "ax.scatter(X,Y,Z, c='r', marker='o')\n",
    "ax.scatter(X,Y,Zfit, c='b', marker='^')\n",
    "ax.view_init(elev=25., azim=240)\n",
    "ax.set_title(r'$W_1 (kPa)$')\n",
    "ax.set_xlabel(r'$\\gamma_1$')\n",
    "ax.set_ylabel(r'$\\gamma_2$')\n",
    "plt.savefig(infiles[0][:-4]+'ls_W1scatter.png',dpi=500,bbox_inches='tight')\n",
    "plt.show()"
   ]
  },
  {
   "cell_type": "markdown",
   "metadata": {},
   "source": [
    "##### Plot for W2"
   ]
  },
  {
   "cell_type": "code",
   "execution_count": 617,
   "metadata": {
    "collapsed": false
   },
   "outputs": [],
   "source": [
    "########################################\n",
    "# Select the data for plotting\n",
    "X = []\n",
    "Y = []\n",
    "Z = []\n",
    "for i in ls_datapoints:\n",
    "    if abs(gamma3[i]) < np.finfo(float).eps:\n",
    "        X.append(gamma1[i])\n",
    "        Y.append(gamma2[i])\n",
    "        Z.append(W2[i])\n",
    "########################################\n",
    "# Compute the fitted surface\n",
    "Zfit = np.zeros(len(X))\n",
    "for i in range(len(X)):\n",
    "    Zfit[i] = responseW2(X[i], Y[i], 0.0, ls_parms_val, ls_terms)\n"
   ]
  },
  {
   "cell_type": "code",
   "execution_count": 618,
   "metadata": {
    "collapsed": false,
    "scrolled": true
   },
   "outputs": [
    {
     "data": {
      "image/png": "[encoded data removed]",
      "text/plain": [
       "<matplotlib.figure.Figure at 0x11791d9b0>"
      ]
     },
     "metadata": {},
     "output_type": "display_data"
    }
   ],
   "source": [
    "fig_ls_data = plt.figure()\n",
    "ax = fig_ls_data.add_subplot(111, projection='3d')\n",
    "ax.scatter(X,Y,Z, c='r', marker='o')\n",
    "ax.scatter(X,Y,Zfit, c='b', marker='^')\n",
    "ax.view_init(elev=25., azim=240)\n",
    "ax.set_title(r'$W_1 (kPa)$')\n",
    "ax.set_xlabel(r'$\\gamma_1$')\n",
    "ax.set_ylabel(r'$\\gamma_2$')\n",
    "plt.savefig(infiles[0][:-4]+'ls_W2scatter.png',dpi=500,bbox_inches='tight')\n",
    "plt.show()"
   ]
  },
  {
   "cell_type": "markdown",
   "metadata": {},
   "source": [
    "##### Plot for W3"
   ]
  },
  {
   "cell_type": "code",
   "execution_count": 627,
   "metadata": {
    "collapsed": false
   },
   "outputs": [],
   "source": [
    "########################################\n",
    "# Select the data for plotting\n",
    "X = []\n",
    "Y = []\n",
    "Z = []\n",
    "for i in ls_datapoints:\n",
    "    if abs(gamma2[i]) < np.finfo(float).eps:\n",
    "        X.append(gamma1[i])\n",
    "        Y.append(gamma3[i])\n",
    "        Z.append(W3[i])\n",
    "########################################\n",
    "# Compute the fitted surface\n",
    "Zfit = np.zeros(len(X))\n",
    "for i in range(len(X)):\n",
    "    Zfit[i] = responseW3(X[i], 0.0, Y[i], ls_parms_val, ls_terms)\n"
   ]
  },
  {
   "cell_type": "code",
   "execution_count": 629,
   "metadata": {
    "collapsed": false,
    "scrolled": true
   },
   "outputs": [
    {
     "data": {
      "image/png": "[encoded data removed]",
      "text/plain": [
       "<matplotlib.figure.Figure at 0x11b40cdd8>"
      ]
     },
     "metadata": {},
     "output_type": "display_data"
    }
   ],
   "source": [
    "fig_ls_data = plt.figure()\n",
    "ax = fig_ls_data.add_subplot(111, projection='3d')\n",
    "ax.scatter(X,Y,Z, c='r', marker='o')\n",
    "ax.scatter(X,Y,Zfit, c='b', marker='^')\n",
    "ax.view_init(elev=25., azim=240)\n",
    "ax.set_title(r'$W_1 (kPa)$')\n",
    "ax.set_xlabel(r'$\\gamma_1$')\n",
    "ax.set_ylabel(r'$\\gamma_3$')\n",
    "plt.savefig(infiles[0][:-4]+'ls_W3scatter.png',dpi=500,bbox_inches='tight')\n",
    "plt.show()"
   ]
  },
  {
   "cell_type": "markdown",
   "metadata": {},
   "source": [
    "### Post processing to remove the toe region"
   ]
  },
  {
   "cell_type": "code",
   "execution_count": 651,
   "metadata": {
    "collapsed": false
   },
   "outputs": [],
   "source": [
    "hs_vec_b = np.zeros(Wvector.size)\n",
    "####\n",
    "# Computes the Wvector data while removing the low stress component\n",
    "for i in range(Wvector.size):\n",
    "    hs_vec_b[i] = Wvector[i] - Wtensor[i,ls_terms].dot(ls_parms_val)"
   ]
  },
  {
   "cell_type": "code",
   "execution_count": null,
   "metadata": {
    "collapsed": true
   },
   "outputs": [],
   "source": [
    "Wtensor[:,range(7,key[4])].dot(np.array([ -2.41347656e+02,   2.08339874e+05,  -1.21878907e+07,\n",
    "         2.92811903e+08,  -2.48100234e+09,  -3.59584996e+02,\n",
    "         3.24851659e+04,  -1.05669256e+06,   3.19959568e+07,\n",
    "        -2.05029224e+08,  -2.00493513e+09,   0.00000000e+00,\n",
    "         0.00000000e+00,  -1.89429328e+06,   1.50270830e+08,\n",
    "        -4.35166407e+09,   4.39608973e+10,   7.56105835e+03,\n",
    "        -7.56270252e+04,   1.88258891e+05,  -2.73097288e+08,\n",
    "         3.06804293e+09,  -2.69890200e+09,   4.03614135e+04,\n",
    "         1.57206037e+05,   2.06380407e+07,   0.00000000e+00,\n",
    "         0.00000000e+00])) - hs_vec_b"
   ]
  },
  {
   "cell_type": "markdown",
   "metadata": {},
   "source": [
    "## Define the optimization problem"
   ]
  },
  {
   "cell_type": "markdown",
   "metadata": {},
   "source": [
    "### Define the objective function"
   ]
  },
  {
   "cell_type": "code",
   "execution_count": null,
   "metadata": {
    "collapsed": true
   },
   "outputs": [],
   "source": [
    "def obj_f(const, degrees):\n",
    "#     sse = np.log(np.abs(Wtensor[:,degrees].dot(const) - Wvector) + 1)\n",
    "    sse = Wtensor[:,degrees].dot(const) - hs_vec_b\n",
    "    return np.dot(sse,sse)\n",
    "\n",
    "\n",
    "\n",
    "\n",
    "def obj_f_jac(const, degrees):\n",
    "    jac = np.zeros(degrees.size)\n",
    "    for i in range(degrees.size):\n",
    "        jac[i] = 2*((Wtensor[:,degrees].dot(const) - hs_vec_b).dot(Wtensor[:,degrees[i]]))\n",
    "    return jac"
   ]
  },
  {
   "cell_type": "markdown",
   "metadata": {},
   "source": [
    "### Define the constraint functions"
   ]
  },
  {
   "cell_type": "code",
   "execution_count": null,
   "metadata": {
    "collapsed": true
   },
   "outputs": [],
   "source": [
    "def psi_1(i, degrees, x):\n",
    "    return rW_tensor_1[i,degrees].dot(x)\n",
    "\n",
    "def psi_2(i, degrees, x):\n",
    "    return rW_tensor_2[i,degrees].dot(x)\n",
    "\n",
    "def psi_3(i, degrees, x):\n",
    "    return rW_tensor_3[i,degrees].dot(x)\n",
    "\n",
    "def psi_4(i, degrees, x):\n",
    "    return rW_tensor_4[i,degrees].dot(x)\n",
    "\n",
    "def psi_5(i, degrees, x):\n",
    "    return rW_tensor_5[i,degrees].dot(x)\n",
    "\n",
    "def psi_6(i, degrees, x):\n",
    "    return rW_tensor_6[i,degrees].dot(x)"
   ]
  },
  {
   "cell_type": "code",
   "execution_count": null,
   "metadata": {
    "collapsed": true
   },
   "outputs": [],
   "source": [
    "def constraint1(i, degrees, x):\n",
    "    return psi_1(i, degrees, x)\n",
    "\n",
    "\n",
    "def constraint2(i, degrees, x):\n",
    "    return psi_6(i, degrees, x)\n",
    "\n",
    "\n",
    "def constraint3(i, degrees, x):\n",
    "    return psi_4(i, degrees, x)\n",
    "\n",
    "\n",
    "def constraint4(i, degrees, x):\n",
    "    w1 = psi_1(i, degrees, x)\n",
    "    w3 = psi_3(i, degrees, x)\n",
    "    w6 = psi_6(i, degrees, x)\n",
    "    return w1*w6 - w3*w3\n",
    "\n",
    "\n",
    "def constraint5(i, degrees, x):\n",
    "    w1 = psi_1(i, degrees, x)\n",
    "    w2 = psi_2(i, degrees, x)\n",
    "    w4 = psi_4(i, degrees, x)\n",
    "    return w1*w4 - w2*w2\n",
    "\n",
    "\n",
    "def constraint6(i, degrees, x):\n",
    "    w4 = psi_4(i, degrees, x)\n",
    "    w5 = psi_5(i, degrees, x)\n",
    "    w6 = psi_6(i, degrees, x)\n",
    "    return w6*w4 - w5*w5\n",
    "\n",
    "\n",
    "def constraint7(i, degrees, x):\n",
    "    w1 = psi_1(i, degrees, x)\n",
    "    w2 = psi_2(i, degrees, x)\n",
    "    w3 = psi_3(i, degrees, x)\n",
    "    w4 = psi_4(i, degrees, x)\n",
    "    w5 = psi_5(i, degrees, x)\n",
    "    w6 = psi_6(i, degrees, x)\n",
    "    return w1*( w4*w6 - w5*w5 ) - w3*( w3*w4 - w5*w2 ) + w2*( w3*w5 - w6*w2 )"
   ]
  },
  {
   "cell_type": "code",
   "execution_count": null,
   "metadata": {
    "collapsed": true
   },
   "outputs": [],
   "source": []
  },
  {
   "cell_type": "code",
   "execution_count": null,
   "metadata": {
    "collapsed": true
   },
   "outputs": [],
   "source": [
    "def cons1_jac(i, degrees, x):\n",
    "    n = degrees.size\n",
    "    jacob = np.zeros(n)\n",
    "    for j in range(n):\n",
    "        jacob[j] = d_psi_1(i, degrees, j)\n",
    "    return jacob\n",
    "\n",
    "\n",
    "def cons2_jac(i, degrees, x):\n",
    "    n = degrees.size\n",
    "    jacob = np.zeros(n)\n",
    "    for j in range(n):\n",
    "        jacob[j] = d_psi_6(i, degrees, j)\n",
    "    return jacob\n",
    "\n",
    "\n",
    "def cons3_jac(i, degrees, x):\n",
    "    n = degrees.size\n",
    "    jacob = np.zeros(n)\n",
    "    for j in range(n):\n",
    "        jacob[j] = d_psi_4(i, degrees, j)\n",
    "    return jacob\n",
    "\n",
    "\n",
    "def cons4_jac(i, degrees, x):\n",
    "    w1 = psi_1(i, degrees, x)\n",
    "    w3 = psi_3(i, degrees, x)\n",
    "    w6 = psi_6(i, degrees, x)\n",
    "    n = degrees.size\n",
    "    jacob = np.zeros(n)\n",
    "    for j in range(n):\n",
    "        jacob[j] = w6*d_psi_1(i, degrees, j) + w1*d_psi_6(i, degrees, j) - 2* w3*d_psi_3(i, degrees, j)\n",
    "    return jacob\n",
    "\n",
    "\n",
    "def cons5_jac(i, degrees, x):\n",
    "    w1 = psi_1(i, degrees, x)\n",
    "    w2 = psi_2(i, degrees, x)\n",
    "    w4 = psi_4(i, degrees, x)\n",
    "    n = degrees.size\n",
    "    jacob = np.zeros(n)\n",
    "    for j in range(n):\n",
    "        jacob[j] = w4*d_psi_1(i, degrees, j) + w1*d_psi_4(i, degrees, j) - 2*w2*d_psi_2(i, degrees, j)\n",
    "    return jacob\n",
    "\n",
    "\n",
    "def cons6_jac(i, degrees, x):\n",
    "    w4 = psi_4(i, degrees, x)\n",
    "    w5 = psi_5(i, degrees, x)\n",
    "    w6 = psi_6(i, degrees, x)\n",
    "    n = degrees.size\n",
    "    jacob = np.zeros(n)\n",
    "    for j in range(n):\n",
    "        jacob[j] = w4*d_psi_6(i, degrees, j) + w6*d_psi_4(i, degrees, j) - 2* w5*d_psi_5(i, degrees, j)\n",
    "    return jacob\n",
    "\n",
    "\n",
    "def cons7_jac(i, degrees, x):\n",
    "    w1 = psi_1(i, degrees, x)\n",
    "    w2 = psi_2(i, degrees, x)\n",
    "    w3 = psi_3(i, degrees, x)\n",
    "    w4 = psi_4(i, degrees, x)\n",
    "    w5 = psi_5(i, degrees, x)\n",
    "    w6 = psi_6(i, degrees, x)\n",
    "    n = degrees.size\n",
    "    jacob = np.zeros(n)\n",
    "    for j in range(n):\n",
    "        jacob[j] = (( w4*w6 - w5*w5 )*d_psi_1(i, degrees, j) + w1*w4*d_psi_6(i, degrees, j) \n",
    "                    + w1*w6*d_psi_4(i, degrees, j) - 2*w1*w5*d_psi_5(i, degrees, j)\n",
    "                    - 2*w3*w4*d_psi_3(i, degrees, j) + w5*w2*d_psi_3(i, degrees, j)\n",
    "                    - w3*w3*d_psi_4(i, degrees, j) + w3*w2*d_psi_5(i, degrees, j) + w3*w5*d_psi_2(i, degrees, j)\n",
    "                    + w3*w5*d_psi_2(i, degrees, j) - 2*w6*w2*d_psi_2(i, degrees, j)\n",
    "                    + w2*w5*d_psi_3(i, degrees, j) + w2*w3*d_psi_5(i, degrees, j) - w2*w2*d_psi_6(i, degrees, j)\n",
    "                   )\n",
    "    return jacob\n",
    "\n",
    "\n"
   ]
  },
  {
   "cell_type": "markdown",
   "metadata": {},
   "source": [
    "## Forward Selection: Model enhancement"
   ]
  },
  {
   "cell_type": "code",
   "execution_count": 638,
   "metadata": {
    "collapsed": false
   },
   "outputs": [],
   "source": [
    "lb = np.full(index.size, -np.inf)\n",
    "ub = np.full(index.size, np.inf)\n",
    "\n",
    "for i in cons_positions:\n",
    "    lb[i] = 0\n",
    "    \n",
    "    "
   ]
  },
  {
   "cell_type": "code",
   "execution_count": 668,
   "metadata": {
    "collapsed": false
   },
   "outputs": [
    {
     "name": "stdout",
     "output_type": "stream",
     "text": [
      "The unconstrained solution is optimal.\n",
      "Final cost 6.1851e+07, first-order optimality 2.41e-11\n",
      "   Iteration        Cost      Cost reduction    Step norm     Optimality   \n",
      "       0         5.1094e+07                                    6.99e+01    \n",
      "       1         5.1084e+07      9.61e+03       3.70e+04       1.10e-10    \n",
      "       2         5.1084e+07      0.00e+00       0.00e+00       1.10e-10    \n",
      "The relative change of the cost function is less than `tol`.\n",
      "Number of iterations 3, initial cost 5.1094e+07, final cost 5.1084e+07, first-order optimality 1.10e-10.\n",
      "   Iteration        Cost      Cost reduction    Step norm     Optimality   \n",
      "       0         4.0102e+07                                    7.45e+03    \n",
      "       1         3.0575e+07      9.53e+06       5.03e+05       7.41e-10    \n",
      "       2         3.0575e+07      0.00e+00       0.00e+00       7.41e-10    \n",
      "The relative change of the cost function is less than `tol`.\n",
      "Number of iterations 3, initial cost 4.0102e+07, final cost 3.0575e+07, first-order optimality 7.41e-10.\n",
      "   Iteration        Cost      Cost reduction    Step norm     Optimality   \n",
      "       0         2.6823e+07                                    3.23e+03    \n",
      "       1         2.5109e+07      1.71e+06       5.29e+06       4.88e+02    \n",
      "       2         2.5105e+07      3.89e+03       2.95e+05       8.08e-10    \n",
      "       3         2.5105e+07      0.00e+00       0.00e+00       8.08e-10    \n",
      "The relative change of the cost function is less than `tol`.\n",
      "Number of iterations 4, initial cost 2.6823e+07, final cost 2.5105e+07, first-order optimality 8.08e-10.\n",
      "   Iteration        Cost      Cost reduction    Step norm     Optimality   \n",
      "       0         1.2259e+08                                    6.58e+03    \n",
      "       1         1.5024e+07      1.08e+08       2.98e+07       4.53e-10    \n",
      "       2         1.5024e+07      0.00e+00       0.00e+00       4.53e-10    \n",
      "The relative change of the cost function is less than `tol`.\n",
      "Number of iterations 3, initial cost 1.2259e+08, final cost 1.5024e+07, first-order optimality 4.53e-10.\n",
      "   Iteration        Cost      Cost reduction    Step norm     Optimality   \n",
      "       0         5.8485e+07                                    6.10e+03    \n",
      "       1         7.7200e+06      5.08e+07       1.85e+11       2.40e+01    \n",
      "       2         7.7155e+06      4.52e+03       1.58e+09       1.47e-08    \n",
      "       3         7.7155e+06      0.00e+00       0.00e+00       1.47e-08    \n",
      "The relative change of the cost function is less than `tol`.\n",
      "Number of iterations 4, initial cost 5.8485e+07, final cost 7.7155e+06, first-order optimality 1.47e-08.\n",
      "   Iteration        Cost      Cost reduction    Step norm     Optimality   \n",
      "       0         3.0411e+08                                    1.30e+05    \n",
      "       1         1.5062e+07      2.89e+08       3.29e+10       1.07e+03    \n",
      "       2         5.0590e+06      1.00e+07       5.63e+10       1.80e+03    \n",
      "       3         4.9813e+06      7.78e+04       1.01e+10       5.59e-08    \n",
      "       4         4.9813e+06      0.00e+00       0.00e+00       5.59e-08    \n",
      "The relative change of the cost function is less than `tol`.\n",
      "Number of iterations 5, initial cost 3.0411e+08, final cost 4.9813e+06, first-order optimality 5.59e-08.\n",
      "   Iteration        Cost      Cost reduction    Step norm     Optimality   \n",
      "       0         2.0060e+08                                    1.29e+05    \n",
      "       1         5.4069e+06      1.95e+08       8.38e+12       5.34e+02    \n",
      "       2         2.0696e+06      3.34e+06       4.22e+12       9.77e+02    \n",
      "       3         2.0422e+06      2.74e+04       1.22e+12       2.49e+00    \n",
      "       4         2.0383e+06      3.89e+03       8.58e+11       1.31e-07    \n",
      "       5         2.0383e+06      0.00e+00       0.00e+00       1.31e-07    \n",
      "The relative change of the cost function is less than `tol`.\n",
      "Number of iterations 6, initial cost 2.0060e+08, final cost 2.0383e+06, first-order optimality 1.31e-07.\n",
      "   Iteration        Cost      Cost reduction    Step norm     Optimality   \n",
      "       0         3.3548e+08                                    9.99e+04    \n",
      "       1         8.5241e+06      3.27e+08       6.21e+12       9.09e+02    \n",
      "       2         1.3205e+06      7.20e+06       1.06e+13       4.02e+02    \n",
      "       3         1.3112e+06      9.33e+03       6.12e+11       6.27e-08    \n",
      "       4         1.3112e+06      0.00e+00       0.00e+00       6.27e-08    \n",
      "The relative change of the cost function is less than `tol`.\n",
      "Number of iterations 5, initial cost 3.3548e+08, final cost 1.3112e+06, first-order optimality 6.27e-08.\n",
      "   Iteration        Cost      Cost reduction    Step norm     Optimality   \n",
      "       0         2.1913e+08                                    1.17e+05    \n",
      "       1         4.5935e+06      2.15e+08       7.37e+15       6.81e+02    \n",
      "       2         5.2425e+05      4.07e+06       8.98e+16       5.46e+02    \n",
      "       3         5.2779e+05      -3.54e+03      8.94e+16       5.90e-05    \n",
      "The relative change of the cost function is less than `tol`.\n",
      "Number of iterations 4, initial cost 2.1913e+08, final cost 5.2779e+05, first-order optimality 5.90e-05.\n",
      "   Iteration        Cost      Cost reduction    Step norm     Optimality   \n",
      "       0         7.4045e+08                                    1.14e+05    \n",
      "       1         1.6648e+07      7.24e+08       8.62e+15       9.12e+02    \n",
      "       2         3.1601e+05      1.63e+07       3.02e+16       3.71e+02    \n",
      "       3         3.1406e+05      1.95e+03       2.88e+16       1.74e-05    \n",
      "       4         3.1406e+05      0.00e+00       0.00e+00       1.74e-05    \n",
      "The relative change of the cost function is less than `tol`.\n",
      "Number of iterations 5, initial cost 7.4045e+08, final cost 3.1406e+05, first-order optimality 1.74e-05.\n",
      "   Iteration        Cost      Cost reduction    Step norm     Optimality   \n",
      "       0         2.0393e+08                                    2.28e+04    \n",
      "       1         5.4452e+06      1.98e+08       2.72e+16       6.99e+02    \n",
      "       2         1.6786e+05      5.28e+06       5.41e+16       1.35e+02    \n",
      "       3         1.6733e+05      5.31e+02       1.45e+16       1.09e+02    \n",
      "       4         1.6733e+05      0.00e+00       0.00e+00       1.09e+02    \n",
      "The relative change of the cost function is less than `tol`.\n",
      "Number of iterations 5, initial cost 2.0393e+08, final cost 1.6733e+05, first-order optimality 1.09e+02.\n",
      "   Iteration        Cost      Cost reduction    Step norm     Optimality   \n",
      "       0         5.2128e+09                                    1.72e+05    \n",
      "       1         5.5224e+06      5.21e+09       2.03e+16       6.36e+02    \n",
      "       2         1.4694e+05      5.38e+06       5.21e+16       1.80e+02    \n",
      "       3         1.4721e+05      -2.73e+02      6.79e+16       3.42e-02    \n",
      "The relative change of the cost function is less than `tol`.\n",
      "Number of iterations 4, initial cost 5.2128e+09, final cost 1.4721e+05, first-order optimality 3.42e-02.\n",
      "   Iteration        Cost      Cost reduction    Step norm     Optimality   \n",
      "       0         1.4189e+09                                    9.05e+04    \n",
      "       1         5.5919e+06      1.41e+09       2.82e+16       7.22e+02    \n",
      "       2         1.2313e+05      5.47e+06       4.42e+16       1.82e+02    \n",
      "       3         1.1739e+05      5.74e+03       1.24e+16       1.48e+02    \n",
      "       4         1.1739e+05      0.00e+00       0.00e+00       1.48e+02    \n",
      "The relative change of the cost function is less than `tol`.\n",
      "Number of iterations 5, initial cost 1.4189e+09, final cost 1.1739e+05, first-order optimality 1.48e+02.\n",
      "   Iteration        Cost      Cost reduction    Step norm     Optimality   \n",
      "       0         8.3909e+09                                    1.19e+05    \n",
      "       1         4.1923e+06      8.39e+09       9.76e+15       2.13e+03    \n",
      "       2         1.5447e+05      4.04e+06       2.69e+16       3.90e+02    \n",
      "       3         4.4738e+04      1.10e+05       8.42e+15       1.17e+02    \n",
      "       4         4.3632e+04      1.11e+03       4.39e+15       1.03e+02    \n",
      "       5         4.3632e+04      0.00e+00       0.00e+00       1.03e+02    \n",
      "The relative change of the cost function is less than `tol`.\n",
      "Number of iterations 6, initial cost 8.3909e+09, final cost 4.3632e+04, first-order optimality 1.03e+02.\n",
      "   Iteration        Cost      Cost reduction    Step norm     Optimality   \n",
      "       0         1.4872e+10                                    8.87e+04    \n",
      "       1         1.8402e+06      1.49e+10       1.75e+16       3.04e+02    \n",
      "       2         4.0795e+04      1.80e+06       2.82e+16       1.24e+02    \n",
      "       3         3.8740e+04      2.05e+03       4.80e+15       9.93e+01    \n",
      "       4         3.8740e+04      0.00e+00       0.00e+00       9.93e+01    \n",
      "The relative change of the cost function is less than `tol`.\n",
      "Number of iterations 5, initial cost 1.4872e+10, final cost 3.8740e+04, first-order optimality 9.93e+01.\n",
      "   Iteration        Cost      Cost reduction    Step norm     Optimality   \n",
      "       0         9.4477e+09                                    7.04e+04    \n",
      "       1         1.6278e+06      9.45e+09       1.39e+16       6.80e+02    \n",
      "       2         5.7448e+04      1.57e+06       2.58e+16       1.83e+02    \n",
      "       3         3.4230e+04      2.32e+04       4.69e+15       1.12e+02    \n",
      "       4         3.2923e+04      1.31e+03       4.30e+15       9.31e+01    \n",
      "       5         3.2923e+04      0.00e+00       0.00e+00       9.31e+01    \n",
      "The relative change of the cost function is less than `tol`.\n",
      "Number of iterations 6, initial cost 9.4477e+09, final cost 3.2923e+04, first-order optimality 9.31e+01.\n",
      "   Iteration        Cost      Cost reduction    Step norm     Optimality   \n",
      "       0         5.3475e+10                                    5.20e+05    \n",
      "       1         6.1260e+06      5.35e+10       1.32e+16       2.28e+03    \n",
      "       2         1.5859e+05      5.97e+06       1.10e+16       1.10e+03    \n",
      "       3         1.4027e+04      1.45e+05       8.07e+15       1.05e-04    \n",
      "       4         1.6628e+04      -2.60e+03      3.72e+15       1.86e-07    \n",
      "The relative change of the cost function is less than `tol`.\n",
      "Number of iterations 5, initial cost 5.3475e+10, final cost 1.6628e+04, first-order optimality 1.86e-07.\n"
     ]
    }
   ],
   "source": [
    "res_forward = [0 for i in range(key.size)]\n",
    "cost_forward = [0 for i in range(key.size)]\n",
    "\n",
    "\n",
    "for i in range(key.size):\n",
    "    testlist = range(3,key[i])\n",
    "    res_forward[i] = lsq_linear(Wtensor[:,index[testlist]], hs_vec_b, \\\n",
    "                          bounds=(lb[testlist], ub[testlist]), \\\n",
    "                          method='bvls', lsmr_tol='auto', max_iter=10000, verbose=2)\n",
    "    cost_forward[i] = res_forward[i].cost"
   ]
  },
  {
   "cell_type": "code",
   "execution_count": 663,
   "metadata": {
    "collapsed": false
   },
   "outputs": [
    {
     "data": {
      "image/png": "[encoded data removed]",
      "text/plain": [
       "<matplotlib.figure.Figure at 0x111f26898>"
      ]
     },
     "metadata": {},
     "output_type": "display_data"
    }
   ],
   "source": [
    "plt.plot(key, cost_forward/cost_forward[0],'ro',markerfacecolor='white')\n",
    "plt.axis([0, key.max(), 0, 1.05])\n",
    "plt.savefig('forwardselectionresult.png',dpi=500,bbox_inches='tight')\n",
    "plt.show()"
   ]
  },
  {
   "cell_type": "code",
   "execution_count": 664,
   "metadata": {
    "collapsed": false
   },
   "outputs": [
    {
     "data": {
      "image/png": "[encoded data removed]",
      "text/plain": [
       "<matplotlib.figure.Figure at 0x111f260b8>"
      ]
     },
     "metadata": {},
     "output_type": "display_data"
    }
   ],
   "source": [
    "plt.plot(key, cost_forward/cost_forward[0],'ro',markerfacecolor='white')\n",
    "plt.axis([0, key.max(), 0, 0.1])\n",
    "plt.savefig('forwardselectionzoomed.png',dpi=500,bbox_inches='tight')\n",
    "plt.show()"
   ]
  },
  {
   "cell_type": "code",
   "execution_count": 665,
   "metadata": {
    "collapsed": false
   },
   "outputs": [
    {
     "data": {
      "text/plain": [
       "array([  7,  18,  20,  32,  35,  75,  77, 108, 111, 196, 198, 256, 259,\n",
       "       405, 407, 500, 503, 726])"
      ]
     },
     "execution_count": 665,
     "metadata": {},
     "output_type": "execute_result"
    }
   ],
   "source": [
    "key"
   ]
  },
  {
   "cell_type": "code",
   "execution_count": 667,
   "metadata": {
    "collapsed": false
   },
   "outputs": [
    {
     "data": {
      "text/plain": [
       "198"
      ]
     },
     "execution_count": 667,
     "metadata": {},
     "output_type": "execute_result"
    }
   ],
   "source": [
    "nk = 10\n",
    "key[nk]"
   ]
  },
  {
   "cell_type": "markdown",
   "metadata": {},
   "source": [
    "## Model parameter covariance"
   ]
  },
  {
   "cell_type": "markdown",
   "metadata": {},
   "source": [
    "### Compute the covariance matrix "
   ]
  },
  {
   "cell_type": "code",
   "execution_count": 730,
   "metadata": {
    "collapsed": true
   },
   "outputs": [],
   "source": [
    "CovM = (Wtensor.T).dot(Wtensor)\n",
    "CovM[0,0] = 1.0\n",
    "\n",
    "trace = np.diag(np.divide(1.0, np.sqrt(CovM.diagonal())))\n",
    "\n",
    "corM = trace.dot(CovM).dot(trace)"
   ]
  },
  {
   "cell_type": "markdown",
   "metadata": {},
   "source": [
    "### Parameter fitness"
   ]
  },
  {
   "cell_type": "code",
   "execution_count": 951,
   "metadata": {
    "collapsed": true
   },
   "outputs": [],
   "source": [
    "max_parm_cor = 0.5"
   ]
  },
  {
   "cell_type": "code",
   "execution_count": 832,
   "metadata": {
    "collapsed": true
   },
   "outputs": [],
   "source": [
    "def parm_bestfit(i):\n",
    "    return (Wvector.dot(Wtensor[:,i]))/(Wtensor[:,i].dot(Wtensor[:,i]))\n",
    "\n",
    "########################################\n",
    "\n",
    "\n",
    "# def parm_fitness(i):\n",
    "#     bval = parm_bestfit(i)\n",
    "#     eps = bval*Wtensor[:,i] - Wvector\n",
    "#     return (eps.dot(eps))/(Wvector.dot(Wvector))\n",
    "\n",
    "########################################\n",
    "\n",
    "def parm_fitness(i):\n",
    "    bval = parm_bestfit(i)\n",
    "    eps = bval*Wtensor[:,i] - hs_vec_b\n",
    "    return (eps.dot(eps))/(hs_vec_b.dot(hs_vec_b))"
   ]
  },
  {
   "cell_type": "code",
   "execution_count": 952,
   "metadata": {
    "collapsed": false
   },
   "outputs": [
    {
     "name": "stdout",
     "output_type": "stream",
     "text": [
      "21\n"
     ]
    }
   ],
   "source": [
    "bestset = np.zeros(key.max())\n",
    "for i in np.arange(7,key.max()):\n",
    "    testvec = np.array(np.where(np.abs(corM[index[i],index]) > max_parm_cor)[0])\n",
    "    testval = np.array([parm_fitness(i) for i in testvec])\n",
    "    bestset[i] = testvec[ testval == testval.min()]\n",
    "\n",
    "    \n",
    "setunion = np.union1d(bestset,bestset[7:10])\n",
    "setunion = setunion.astype(int)\n",
    "setunion = np.setdiff1d(setunion, [0,1,2,3,4,5,6])\n",
    "print(setunion.size)"
   ]
  },
  {
   "cell_type": "code",
   "execution_count": 953,
   "metadata": {
    "collapsed": false,
    "scrolled": true
   },
   "outputs": [
    {
     "name": "stdout",
     "output_type": "stream",
     "text": [
      "(2, 0, 2)\n",
      "(3, 0, 0)\n",
      "(0, 3, 0)\n",
      "(2, 3, 0)\n",
      "(0, 3, 2)\n",
      "(2, 3, 2)\n",
      "(3, 3, 2)\n",
      "(4, 0, 0)\n",
      "(1, 4, 0)\n",
      "(1, 0, 4)\n",
      "(2, 0, 4)\n",
      "(3, 4, 0)\n",
      "(3, 0, 4)\n",
      "(2, 1, 4)\n",
      "(4, 4, 0)\n",
      "(4, 2, 2)\n",
      "(1, 3, 4)\n",
      "(4, 1, 4)\n",
      "(7, 1, 0)\n",
      "(8, 0, 2)\n",
      "(1, 2, 8)\n"
     ]
    }
   ],
   "source": [
    "for i in setunion:\n",
    "    print(find_index(10, index[i]))"
   ]
  },
  {
   "cell_type": "markdown",
   "metadata": {},
   "source": [
    "## Backwards Elimination: Model refinement"
   ]
  },
  {
   "cell_type": "code",
   "execution_count": 955,
   "metadata": {
    "collapsed": false,
    "scrolled": true
   },
   "outputs": [
    {
     "ename": "ImportError",
     "evalue": "No module named 'nlopt'",
     "output_type": "error",
     "traceback": [
      "\u001b[0;31m-----------------------------------------------------------\u001b[0m",
      "\u001b[0;31mImportError\u001b[0m               Traceback (most recent call last)",
      "\u001b[0;32m<ipython-input-955-7946a35f4f24>\u001b[0m in \u001b[0;36m<module>\u001b[0;34m()\u001b[0m\n\u001b[0;32m----> 1\u001b[0;31m \u001b[0;32mimport\u001b[0m \u001b[0mnlopt\u001b[0m\u001b[0;34m\u001b[0m\u001b[0m\n\u001b[0m\u001b[1;32m      2\u001b[0m \u001b[0;32mfrom\u001b[0m \u001b[0mnumpy\u001b[0m \u001b[0;32mimport\u001b[0m \u001b[0;34m*\u001b[0m\u001b[0;34m\u001b[0m\u001b[0m\n",
      "\u001b[0;31mImportError\u001b[0m: No module named 'nlopt'"
     ]
    }
   ],
   "source": [
    "initiallist = setunion\n",
    "removedlist = []\n",
    "costlist = np.full(sortedpositions.size, np.inf)\n",
    "costresults = []\n",
    "parmresults = []\n",
    "termresults = []\n",
    "initialguess = np.zeros(keypositions[nk])\n",
    "timecost = np.zeros((len(initiallist) - 4))\n",
    "res = [[0 for j in range(max(initiallist)+1)] for i in range(len(initiallist))]"
   ]
  },
  {
   "cell_type": "code",
   "execution_count": null,
   "metadata": {
    "collapsed": true
   },
   "outputs": [],
   "source": [
    "def constraints_function(degrees):\n",
    "    cons = (\n",
    "            {'type': 'eq','fun' : lambda x: x[1] - x[2], 'jac':lambda x:isocons_jac(degrees, x)},\n",
    "            {'type': 'ineq', 'fun': lambda x: x[1], 'jac' : lambda x: x1cons_jac(degrees, x)},\n",
    "            {'type': 'ineq', 'fun': lambda x: x[2], 'jac' : lambda x: x2cons_jac(degrees, x)},\n",
    "            {'type': 'ineq', 'fun': lambda x: x[3], 'jac' : lambda x: x3cons_jac(degrees, x)},\n",
    "            {'type': 'ineq', 'fun': lambda x: x[1]*x[2]-x[0]*x[0], 'jac' : lambda x: toecons_jac(degrees, x)}\n",
    "            )\n",
    "    for i in range(ncons):\n",
    "        cons += ({'type': 'ineq', 'fun': lambda x: constraint1(i, degrees, x), \n",
    "                  'jac' : lambda x: cons1_jac(i, degrees, x)}\n",
    "                 ,)\n",
    "#         cons += ({'type': 'ineq', 'fun': lambda x: constraint2(i, degrees, x),\n",
    "#                   'jac' : lambda x: cons2_jac(i, degrees, x)}\n",
    "#                  ,)\n",
    "#         cons += ({'type': 'ineq', 'fun': lambda x: constraint3(i, degrees, x),\n",
    "#                  'jac' : lambda x: cons3_jac(i, degrees, x)}\n",
    "#                  ,)\n",
    "        cons += ({'type': 'ineq', 'fun': lambda x: constraint4(i, degrees, x),\n",
    "                  'jac' : lambda x: cons4_jac(i, degrees, x)}\n",
    "                 ,)\n",
    "#         cons += ({'type': 'ineq', 'fun': lambda x: constraint5(i, degrees, x),\n",
    "#                   'jac' : lambda x: cons5_jac(i, degrees, x)}\n",
    "#                  ,)\n",
    "#         cons += ({'type': 'ineq', 'fun': lambda x: constraint6(i, degrees, x),\n",
    "#                   'jac' : lambda x: cons6_jac(i, degrees, x)}\n",
    "#                  ,)\n",
    "        cons += ({'type': 'ineq', 'fun': lambda x: constraint7(i, degrees, x),\n",
    "                  'jac' : lambda x: cons7_jac(i, degrees, x)}\n",
    "                 ,)\n",
    "    return cons"
   ]
  },
  {
   "cell_type": "code",
   "execution_count": null,
   "metadata": {
    "collapsed": true
   },
   "outputs": [],
   "source": [
    "def f(x, grad):\n",
    "    if grad.size > 0:\n",
    "        grad[:] = obj_f_jac(x, model_exp)\n",
    "        global model_exp\n",
    "        return obj_f(x, model_exp)\n",
    "\n",
    "    \n",
    "def c(result, x, grad):\n",
    "    if grad.size > 0:\n",
    "        global model_exp\n",
    "        for i in range(ncons):\n",
    "            result[3*i] = constraint1(i, model_exp, x)\n",
    "            result[3*i + 1] = constraint4(i, model_exp, x)\n",
    "            result[3*i + 2] = constraint7(i, model_exp, x)\n",
    "            grad[3*i,:] = cons1_jac(i, model_exp, x)\n",
    "            grad[3*i + 1,:] = cons4_jac(i, model_exp, x)\n",
    "            grad[3*i + 2,:] = cons7_jac(i, model_exp, x)\n",
    "    return 0\n",
    "                 \n",
    "            "
   ]
  },
  {
   "cell_type": "code",
   "execution_count": null,
   "metadata": {
    "collapsed": true
   },
   "outputs": [],
   "source": [
    "opt = nlopt.opt(nlopt.LD_MMA, n)\n",
    "opt.set_min_objective(f)\n",
    "opt.set_lower_bounds(lb)\n",
    "opt.set_upper_bounds(ub)\n",
    "\n",
    "opt.set_ftol_rel(tol)\n",
    "opt.set_ftol_abs(0)\n",
    "opt.set_xtol_rel(tol)\n",
    "opt.set_xtol_abs(0)\n",
    "\n",
    "opt.set_maxeval(0)\n",
    "opt.set_maxtime(14400)\n",
    "\n"
   ]
  },
  {
   "cell_type": "code",
   "execution_count": null,
   "metadata": {
    "collapsed": true
   },
   "outputs": [],
   "source": []
  },
  {
   "cell_type": "code",
   "execution_count": null,
   "metadata": {
    "collapsed": true
   },
   "outputs": [],
   "source": [
    "for i in range(len(initiallist) -4):\n",
    "    start = time.time()\n",
    "    for j in initiallist[4:]:\n",
    "        testlist = [k for k in initiallist if k!=j]\n",
    "        res[i][j] = lsq_linear(Wtensor[:,sortedpositions[testlist]], Wvector, lsmr_tol='auto', max_iter=10000, verbose=0)\n",
    "        costlist[j] = res[i][j].cost\n",
    "    besti = costlist.argmin()\n",
    "    initiallist.remove(besti)\n",
    "    removedlist.append(besti)\n",
    "    costresults.append(costlist[besti])\n",
    "    parmresults.append(res[i][besti].x)\n",
    "    termresults.append(np.array(initiallist))\n",
    "    costlist[besti] = np.inf\n",
    "    end = time.time()\n",
    "    timecost[i] = end - start\n",
    "    print(i)"
   ]
  },
  {
   "cell_type": "markdown",
   "metadata": {},
   "source": [
    "## Examining the results"
   ]
  },
  {
   "cell_type": "markdown",
   "metadata": {},
   "source": [
    "### Final parameters"
   ]
  },
  {
   "cell_type": "markdown",
   "metadata": {},
   "source": [
    "### Quality of fit"
   ]
  },
  {
   "cell_type": "markdown",
   "metadata": {},
   "source": [
    "### Convexity"
   ]
  },
  {
   "cell_type": "markdown",
   "metadata": {},
   "source": [
    "### Advanced results"
   ]
  },
  {
   "cell_type": "code",
   "execution_count": null,
   "metadata": {
    "collapsed": true
   },
   "outputs": [],
   "source": []
  },
  {
   "cell_type": "code",
   "execution_count": null,
   "metadata": {
    "collapsed": true
   },
   "outputs": [],
   "source": []
  },
  {
   "cell_type": "code",
   "execution_count": null,
   "metadata": {
    "collapsed": true
   },
   "outputs": [],
   "source": []
  },
  {
   "cell_type": "code",
   "execution_count": null,
   "metadata": {
    "collapsed": true
   },
   "outputs": [],
   "source": []
  },
  {
   "cell_type": "code",
   "execution_count": 958,
   "metadata": {
    "collapsed": false
   },
   "outputs": [
    {
     "ename": "NameError",
     "evalue": "name 'PYTHONPATH' is not defined",
     "output_type": "error",
     "traceback": [
      "\u001b[0;31m-----------------------------------------------------------\u001b[0m",
      "\u001b[0;31mNameError\u001b[0m                 Traceback (most recent call last)",
      "\u001b[0;32m<ipython-input-958-02b3de78f2f6>\u001b[0m in \u001b[0;36m<module>\u001b[0;34m()\u001b[0m\n\u001b[0;32m----> 1\u001b[0;31m \u001b[0mPYTHONPATH\u001b[0m\u001b[0;34m\u001b[0m\u001b[0m\n\u001b[0m",
      "\u001b[0;31mNameError\u001b[0m: name 'PYTHONPATH' is not defined"
     ]
    }
   ],
   "source": [
    "PYTHONPATH"
   ]
  },
  {
   "cell_type": "code",
   "execution_count": 956,
   "metadata": {
    "collapsed": false
   },
   "outputs": [
    {
     "data": {
      "text/plain": [
       "['',\n",
       " '/Users/willwiz/anaconda/lib/python35.zip',\n",
       " '/Users/willwiz/anaconda/lib/python3.5',\n",
       " '/Users/willwiz/anaconda/lib/python3.5/plat-darwin',\n",
       " '/Users/willwiz/anaconda/lib/python3.5/lib-dynload',\n",
       " '/Users/willwiz/anaconda/lib/python3.5/site-packages',\n",
       " '/Users/willwiz/anaconda/lib/python3.5/site-packages/Sphinx-1.5.1-py3.5.egg',\n",
       " '/Users/willwiz/anaconda/lib/python3.5/site-packages/aeosa',\n",
       " '/Users/willwiz/anaconda/lib/python3.5/site-packages/setuptools-27.2.0-py3.5.egg',\n",
       " '/Users/willwiz/anaconda/lib/python3.5/site-packages/IPython/extensions',\n",
       " '/Users/willwiz/.ipython']"
      ]
     },
     "execution_count": 956,
     "metadata": {},
     "output_type": "execute_result"
    }
   ],
   "source": [
    "sys.path"
   ]
  },
  {
   "cell_type": "code",
   "execution_count": null,
   "metadata": {
    "collapsed": true
   },
   "outputs": [],
   "source": []
  }
 ],
 "metadata": {
  "kernelspec": {
   "display_name": "Python [default]",
   "language": "python",
   "name": "python3"
  },
  "language_info": {
   "codemirror_mode": {
    "name": "ipython",
    "version": 3
   },
   "file_extension": ".py",
   "mimetype": "text/x-python",
   "name": "python",
   "nbconvert_exporter": "python",
   "pygments_lexer": "ipython3",
   "version": "3.5.2"
  }
 },
 "nbformat": 4,
 "nbformat_minor": 2
}
